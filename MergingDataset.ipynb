{
  "nbformat": 4,
  "nbformat_minor": 0,
  "metadata": {
    "colab": {
      "provenance": [],
      "include_colab_link": true
    },
    "kernelspec": {
      "name": "python3",
      "display_name": "Python 3"
    },
    "language_info": {
      "name": "python"
    }
  },
  "cells": [
    {
      "cell_type": "markdown",
      "metadata": {
        "id": "view-in-github",
        "colab_type": "text"
      },
      "source": [
        "<a href=\"https://colab.research.google.com/github/ReidelVichot/DE_CAI_broadband/blob/main/MergingDataset.ipynb\" target=\"_parent\"><img src=\"https://colab.research.google.com/assets/colab-badge.svg\" alt=\"Open In Colab\"/></a>"
      ]
    },
    {
      "cell_type": "markdown",
      "source": [
        "The purpose of this notebook is to merge and clean the datasets that might be used for future research."
      ],
      "metadata": {
        "id": "RwtOI2OtJmmF"
      }
    },
    {
      "cell_type": "code",
      "execution_count": null,
      "metadata": {
        "id": "HrJSLZTVJhHc"
      },
      "outputs": [],
      "source": [
        "#-- connect to google drive\n"
      ]
    },
    {
      "cell_type": "code",
      "source": [
        "#-- install packages"
      ],
      "metadata": {
        "id": "tsD9M5AWNraC"
      },
      "execution_count": null,
      "outputs": []
    },
    {
      "cell_type": "code",
      "source": [
        "#-- import packages"
      ],
      "metadata": {
        "id": "Qcolzds3NwmX"
      },
      "execution_count": null,
      "outputs": []
    },
    {
      "cell_type": "code",
      "source": [
        "#-- import shapefiles"
      ],
      "metadata": {
        "id": "Tz8bmjHoNzBh"
      },
      "execution_count": null,
      "outputs": []
    },
    {
      "cell_type": "code",
      "source": [
        "#-- test shapefiles"
      ],
      "metadata": {
        "id": "H_vcwtqkN3M1"
      },
      "execution_count": null,
      "outputs": []
    },
    {
      "cell_type": "code",
      "source": [
        "#-- import fcc datasets"
      ],
      "metadata": {
        "id": "IlME1c75N6Oy"
      },
      "execution_count": null,
      "outputs": []
    },
    {
      "cell_type": "code",
      "source": [
        "#-- test datasets"
      ],
      "metadata": {
        "id": "OOUVR6DaN-Ft"
      },
      "execution_count": null,
      "outputs": []
    },
    {
      "cell_type": "code",
      "source": [
        "#-- merge/concatenate datasets"
      ],
      "metadata": {
        "id": "EUX04v2lODvX"
      },
      "execution_count": null,
      "outputs": []
    },
    {
      "cell_type": "code",
      "source": [
        "#-- test dataset"
      ],
      "metadata": {
        "id": "4dTTm5gDOH2q"
      },
      "execution_count": null,
      "outputs": []
    },
    {
      "cell_type": "code",
      "source": [
        "#-- merge new dataset with geopandas using block_geoid as connector"
      ],
      "metadata": {
        "id": "Bcf1FWQROSfb"
      },
      "execution_count": null,
      "outputs": []
    }
  ]
}